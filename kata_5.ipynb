{
 "cells": [
  {
   "cell_type": "code",
   "execution_count": null,
   "metadata": {},
   "outputs": [],
   "source": []
  },
  {
   "cell_type": "markdown",
   "metadata": {},
   "source": [
    "# Operadores aritmeticos en Python"
   ]
  },
  {
   "cell_type": "code",
   "execution_count": 1,
   "metadata": {},
   "outputs": [],
   "source": [
    "# Crear variables para almacenar las dos distancias\n",
    "# ¡Asegúrate de quitar las comas!\n",
    "\n",
    "Tierra= 149597870  \n",
    "Júpiter =778547200 "
   ]
  },
  {
   "cell_type": "code",
   "execution_count": 5,
   "metadata": {},
   "outputs": [
    {
     "name": "stdout",
     "output_type": "stream",
     "text": [
      "628949330\n",
      "390577533.93\n"
     ]
    }
   ],
   "source": [
    "# Calcular la distancia entre planetas\n",
    "#Restarás el primer planeta del segundo para determinar la distancia en kilómetros. \n",
    "#Convertir la distancia del kilómetro en millas multiplicándola por 0.621.\n",
    "\n",
    "diferencia = Júpiter-Tierra\n",
    "print(diferencia)\n",
    "\n",
    "multiplicacion =diferencia * 0.621\n",
    "print(multiplicacion)"
   ]
  },
  {
   "cell_type": "markdown",
   "metadata": {},
   "source": [
    "## Convertir cadenas en numeros y usar valores absolutos"
   ]
  },
  {
   "cell_type": "code",
   "execution_count": 6,
   "metadata": {},
   "outputs": [],
   "source": [
    "# Almacenar las entradas del usuario\n",
    "#usar input para leer los valores\n",
    "#Pista: variable = input(\"¿Cuál es tu nombre?\")\n",
    "\n",
    "Tierra = input(\"escriba la distancia del sol a la Tierra\")\n",
    "Júpiter = input(\"escriba la distancia del sol a la Jupiter\")\n"
   ]
  },
  {
   "cell_type": "code",
   "execution_count": 10,
   "metadata": {},
   "outputs": [
    {
     "name": "stdout",
     "output_type": "stream",
     "text": [
      "149597870\n",
      "778547200\n"
     ]
    }
   ],
   "source": [
    "# Convierte las cadenas de ambos planetas a números enteros\n",
    "# int para convertir a entero \n",
    "\n",
    "Tierra=int(Tierra)\n",
    "print(Tierra)\n",
    "\n",
    "Júpiter=int(Júpiter)\n",
    "print(Júpiter)\n"
   ]
  },
  {
   "cell_type": "code",
   "execution_count": 16,
   "metadata": {},
   "outputs": [
    {
     "name": "stdout",
     "output_type": "stream",
     "text": [
      "628949330\n",
      "628949330\n",
      "628949330\n",
      "390577533.93\n"
     ]
    }
   ],
   "source": [
    "# Realizar el cálculo y determinar el valor absoluto\n",
    "# abs para convertir el resultado en su valor absoluto.\n",
    "\n",
    "print (abs(Júpiter-Tierra))\n",
    "print (abs(Tierra-Júpiter))\n",
    "\n",
    "distancia=Tierra-Júpiter\n",
    "distancia\n",
    "print (abs(distancia))\n",
    "\n",
    "\n",
    "#Convertir la distancia del kilómetro en millas multiplicándola por 0.621.\n",
    "\n",
    "millas = distancia * 0.621\n",
    "print(abs(millas))\n"
   ]
  }
 ],
 "metadata": {
  "interpreter": {
   "hash": "4ab356c6ef3962ddb48a887d4b00763fccb6c7e30fb3b952437fe6a4665f03b0"
  },
  "kernelspec": {
   "display_name": "Python 3.10.2 64-bit",
   "language": "python",
   "name": "python3"
  },
  "language_info": {
   "codemirror_mode": {
    "name": "ipython",
    "version": 3
   },
   "file_extension": ".py",
   "mimetype": "text/x-python",
   "name": "python",
   "nbconvert_exporter": "python",
   "pygments_lexer": "ipython3",
   "version": "3.10.2"
  },
  "orig_nbformat": 4
 },
 "nbformat": 4,
 "nbformat_minor": 2
}
