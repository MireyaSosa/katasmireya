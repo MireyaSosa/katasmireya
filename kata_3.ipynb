{
 "cells": [
  {
   "cell_type": "markdown",
   "metadata": {},
   "source": [
    "# Alerta asteroide"
   ]
  },
  {
   "cell_type": "code",
   "execution_count": 43,
   "metadata": {},
   "outputs": [
    {
     "name": "stdout",
     "output_type": "stream",
     "text": [
      "PELIGRO ASTEROIDE CERCA \n"
     ]
    }
   ],
   "source": [
    "\n",
    "asteroide = 49\n",
    "\n",
    "if asteroide > 47:\n",
    "    print (\"PELIGRO ASTEROIDE CERCA \")\n",
    "else:\n",
    "    print(\"Todo traquilo\")    \n",
    "\n"
   ]
  },
  {
   "cell_type": "markdown",
   "metadata": {},
   "source": [
    "# Rayo de luz"
   ]
  },
  {
   "cell_type": "code",
   "execution_count": 60,
   "metadata": {},
   "outputs": [
    {
     "name": "stdout",
     "output_type": "stream",
     "text": [
      "no habra rayo de luz\n"
     ]
    }
   ],
   "source": [
    "asteroide = 19\n",
    "if asteroide > 20:\n",
    "    print(\"proximo rayo de luz en el cielo\")\n",
    "elif asteroide ==20:\n",
    "    print(\"proximo rayo de luz en el cielo\")\n",
    "else: \n",
    "    print (\"no habra rayo de luz\")"
   ]
  },
  {
   "cell_type": "markdown",
   "metadata": {},
   "source": [
    "# Dimension asteroide"
   ]
  },
  {
   "cell_type": "code",
   "execution_count": 77,
   "metadata": {},
   "outputs": [
    {
     "name": "stdout",
     "output_type": "stream",
     "text": [
      "Proximo rayo de luz en el cielo\n"
     ]
    }
   ],
   "source": [
    "velocidad = 25\n",
    "tamaño = 30\n",
    "\n",
    "\n",
    "if velocidad > 25 and tamaño > 25:\n",
    "    print(\"PELIGRO SE APROXIMA UN ASTEROIDE\")\n",
    "elif velocidad >= 20:\n",
    "    print(\"Proximo rayo de luz en el cielo\")\n",
    "else:   \n",
    "    print(\"todo tranquilo\")     "
   ]
  }
 ],
 "metadata": {
  "interpreter": {
   "hash": "4ab356c6ef3962ddb48a887d4b00763fccb6c7e30fb3b952437fe6a4665f03b0"
  },
  "kernelspec": {
   "display_name": "Python 3.10.2 64-bit",
   "language": "python",
   "name": "python3"
  },
  "language_info": {
   "codemirror_mode": {
    "name": "ipython",
    "version": 3
   },
   "file_extension": ".py",
   "mimetype": "text/x-python",
   "name": "python",
   "nbconvert_exporter": "python",
   "pygments_lexer": "ipython3",
   "version": "3.10.2"
  },
  "orig_nbformat": 4
 },
 "nbformat": 4,
 "nbformat_minor": 2
}
