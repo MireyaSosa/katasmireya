{
 "cells": [
  {
   "cell_type": "markdown",
   "metadata": {},
   "source": [
    "\n",
    "# Usar listas para almacenar nombres de planetas"
   ]
  },
  {
   "cell_type": "code",
   "execution_count": 18,
   "metadata": {},
   "outputs": [
    {
     "name": "stdout",
     "output_type": "stream",
     "text": [
      "Existen 8 planetas en el sistema solar\n",
      "El primer planeta es Mercurio\n",
      "El segundo planeta es Venus\n",
      "El tercer planeta es Tierra\n",
      "El cuarto planeta es Marte\n",
      "El quinto planeta es Jupiter\n",
      "El sexto planeta es Saturno\n",
      "El septimo planeta es Urano\n",
      "El octavo planeta es Neptuno\n"
     ]
    }
   ],
   "source": [
    "#Crear una variable denominada planets. \n",
    "# Agrega los ocho planetas (sin Plutón) a la lista. \n",
    "\n",
    "\n",
    "planeta = ('Mercurio','Venus','Tierra','Marte','Jupiter','Saturno','Urano','Neptuno')\n",
    "\n",
    "# A continuación, muestra el número de planetas.\n",
    "numero_de_planetas=len(planeta)\n",
    "print('Existen',numero_de_planetas,'planetas en el sistema solar')\n",
    "\n",
    "#print('Hay', len(planeta), 'planetas')\n",
    "\n",
    "\n",
    "# Creamos la lista planetas y la mostramos\n",
    "\n",
    "print('El primer planeta es',planeta[0])\n",
    "print('El segundo planeta es',planeta[1])\n",
    "print('El tercer planeta es',planeta[2])\n",
    "print('El cuarto planeta es',planeta[3])\n",
    "print('El quinto planeta es',planeta[4])\n",
    "print('El sexto planeta es',planeta[5])\n",
    "print('El septimo planeta es',planeta[6])\n",
    "print('El octavo planeta es',planeta[7])\n"
   ]
  },
  {
   "cell_type": "code",
   "execution_count": null,
   "metadata": {},
   "outputs": [],
   "source": [
    "# Agregar a plutón y mostrar el último elemento\n",
    "\n",
    "planeta.append(\"Pluton\")\n",
    "numero_de_planetas=len(planeta)\n",
    "print('Existen', numero_de_planetas, 'planetas en el sistema solar y el ultimo planeta es',planeta[-1])\n"
   ]
  },
  {
   "cell_type": "markdown",
   "metadata": {},
   "source": [
    "# Trabajando con datos de una lista"
   ]
  },
  {
   "cell_type": "code",
   "execution_count": 50,
   "metadata": {},
   "outputs": [],
   "source": [
    "# Lista de planetas\n",
    "\n",
    "planetas = ['Mercurio','Venus','Tierra','Marte','Jupiter','Saturno','Urano','Neptuno']"
   ]
  },
  {
   "cell_type": "code",
   "execution_count": 37,
   "metadata": {},
   "outputs": [],
   "source": [
    "# Solicitamos el nombre de un planeta *Pista:  input()*\n",
    "\n",
    "nombre_planeta = input(\"Escriba el nombre de un planeta, la primer letra debera ser mayuscula\")"
   ]
  },
  {
   "cell_type": "code",
   "execution_count": 49,
   "metadata": {},
   "outputs": [],
   "source": [
    "# Busca el planeta en la lista\n",
    "\n",
    "busqueda= planetas.index(planetas)\n"
   ]
  }
 ],
 "metadata": {
  "interpreter": {
   "hash": "4ab356c6ef3962ddb48a887d4b00763fccb6c7e30fb3b952437fe6a4665f03b0"
  },
  "kernelspec": {
   "display_name": "Python 3.10.2 64-bit",
   "language": "python",
   "name": "python3"
  },
  "language_info": {
   "codemirror_mode": {
    "name": "ipython",
    "version": 3
   },
   "file_extension": ".py",
   "mimetype": "text/x-python",
   "name": "python",
   "nbconvert_exporter": "python",
   "pygments_lexer": "ipython3",
   "version": "3.10.2"
  },
  "orig_nbformat": 4
 },
 "nbformat": 4,
 "nbformat_minor": 2
}
