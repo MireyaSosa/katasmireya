{
 "cells": [
  {
   "cell_type": "markdown",
   "metadata": {},
   "source": [
    "# Transformar cadenas"
   ]
  },
  {
   "cell_type": "code",
   "execution_count": 72,
   "metadata": {},
   "outputs": [
    {
     "data": {
      "text/plain": [
       "['Datos interesantes sobre la Luna: La Luna es el único satélite de la Tierra',\n",
       " 'Hay varios datos interesantes sobre la Luna y cómo afecta la vida aquí en la Tierra.\\nEn promedio, la Luna se aleja 4 cm de la Tierra cada año',\n",
       " 'Esta deriva anual no es lo suficientemente significativa como para causar efectos inmediatos en la Tierra',\n",
       " 'La temperatura diurna más alta de la Luna es de 127 C.']"
      ]
     },
     "execution_count": 72,
     "metadata": {},
     "output_type": "execute_result"
    }
   ],
   "source": [
    "#Primero, dividir el texto en cada oración para trabajar con su contenido:\n",
    "\n",
    "text = \"\"\"Datos interesantes sobre la Luna: La Luna es el único satélite de la Tierra. Hay varios datos interesantes sobre la Luna y cómo afecta la vida aquí en la Tierra.\n",
    "En promedio, la Luna se aleja 4 cm de la Tierra cada año. Esta deriva anual no es lo suficientemente significativa como para causar efectos inmediatos en la Tierra. La temperatura diurna más alta de la Luna es de 127 C.\"\"\"#print(text)\n",
    "text_parts = text.split('. ')\n",
    "text_parts"
   ]
  },
  {
   "cell_type": "code",
   "execution_count": 79,
   "metadata": {},
   "outputs": [
    {
     "data": {
      "text/plain": [
       "['promedio', 'temperatura', 'distancia']"
      ]
     },
     "execution_count": 79,
     "metadata": {},
     "output_type": "execute_result"
    }
   ],
   "source": [
    "# Define algunas palabras clave para búsqueda que te ayudarán a determinar si una oración contiene un hecho.\n",
    "# Define las palabras pista: promedio, temperatura y distancia \n",
    "\n",
    "palabra_clave = ['promedio','temperatura','distancia']\n",
    "palabra_clave"
   ]
  },
  {
   "cell_type": "code",
   "execution_count": 76,
   "metadata": {},
   "outputs": [
    {
     "name": "stdout",
     "output_type": "stream",
     "text": [
      "Hay varios datos interesantes sobre la Luna y cómo afecta la vida aquí en la Tierra.\n",
      "En promedio, la Luna se aleja 4 cm de la Tierra cada año\n",
      "La temperatura diurna más alta de la Luna es de 127 C.\n"
     ]
    }
   ],
   "source": [
    "#Cre un bucle para imprimir solo datos sobre la Luna que estén relacionados con las palabras clave definidas anteriormente:\n",
    "# Ciclo for para recorrer la cadena\n",
    "\n",
    "for sentence in text_parts:\n",
    "    for key_word in palabra_clave:\n",
    "        if key_word in sentence:\n",
    "            print(sentence)\n",
    "            break\n"
   ]
  },
  {
   "cell_type": "code",
   "execution_count": 77,
   "metadata": {},
   "outputs": [
    {
     "name": "stdout",
     "output_type": "stream",
     "text": [
      "Hay varios datos interesantes sobre la Luna y cómo afecta la vida aquí en la Tierra.\n",
      "En promedio, la Luna se aleja 4 cm de la Tierra cada año\n",
      "La temperatura diurna más alta de la Luna es de 127 Celsius.\n"
     ]
    }
   ],
   "source": [
    "# Finalmente, actualiza el bucle(ciclo) para cambiar C a Celsius:\n",
    "\n",
    "for sentence in text_parts:\n",
    "    for key_word in palabra_clave:\n",
    "        if key_word in sentence:\n",
    "            print(sentence.replace(' C', ' Celsius'))\n",
    "            break\n",
    "\n"
   ]
  },
  {
   "cell_type": "markdown",
   "metadata": {},
   "source": [
    "# Formateando cadenas"
   ]
  },
  {
   "cell_type": "code",
   "execution_count": 30,
   "metadata": {},
   "outputs": [],
   "source": [
    "# Datos con los que se van a trabajar\n",
    "\n",
    "nombre = \"Luna\"\n",
    "gravedad = 0.00162 # in kms\n",
    "planeta = \"Tierra\"\n",
    "\n"
   ]
  },
  {
   "cell_type": "code",
   "execution_count": 50,
   "metadata": {},
   "outputs": [
    {
     "data": {
      "text/plain": [
       "' Datos de gravedad de la Luna en la Tierra '"
      ]
     },
     "execution_count": 50,
     "metadata": {},
     "output_type": "execute_result"
    }
   ],
   "source": [
    "# Crear el título\n",
    "\n",
    "titulo =f' Datos de gravedad de la {nombre} en la {planeta} '\n",
    "titulo"
   ]
  },
  {
   "cell_type": "code",
   "execution_count": 73,
   "metadata": {},
   "outputs": [
    {
     "data": {
      "text/plain": [
       "'--------------------------------------------------------------------------------------------------------------. \\nNombre del planeta: Tierra. \\nGravedad en la Luna: 1.6199999999999999 m/s^2'"
      ]
     },
     "execution_count": 73,
     "metadata": {},
     "output_type": "execute_result"
    }
   ],
   "source": [
    "\n",
    "#En lugar de usar kilómetros, debes convertir la distancia a metros multiplicando por 1,000.\n",
    "# Crear la plantilla de cadena multilinea\n",
    "\n",
    "datos = f\"\"\"{'-'*110}. \n",
    "Nombre del planeta: {planeta}. \n",
    "Gravedad en la {nombre}: {gravedad * 1000} m/s^2\"\"\"\n",
    "datos"
   ]
  },
  {
   "cell_type": "code",
   "execution_count": 72,
   "metadata": {},
   "outputs": [
    {
     "name": "stdout",
     "output_type": "stream",
     "text": [
      " Datos de gravedad de la Luna en la Tierra  \n",
      "--------------------------------------------------------------------------------------------------------------. \n",
      "Nombre del planeta: Tierra. \n",
      "Gravedad en la Luna: 1.6199999999999999 m/s^2\n"
     ]
    }
   ],
   "source": [
    "# Unión de ambas cadenas\n",
    "\n",
    "plantilla = f\"\"\"{titulo} \n",
    "{datos}\"\"\" \n",
    "print(plantilla)\n"
   ]
  },
  {
   "cell_type": "code",
   "execution_count": 83,
   "metadata": {},
   "outputs": [
    {
     "name": "stdout",
     "output_type": "stream",
     "text": [
      " Datos de gravedad de la Luna en la Tierra  \n",
      "--------------------------------------------------------------------------------------------------------------. \n",
      "Nombre del planeta: Tierra. \n",
      "Gravedad en la Luna: 1.6199999999999999 m/s^2\n"
     ]
    }
   ],
   "source": [
    "#Ahora usa información de una luna diferente para ver si la plantilla todavía funciona.\n",
    "#Datos muestra:\n",
    "\n",
    "nombre= 'Marte '\n",
    "gravedad  = 0.00143\n",
    "planeta = 'Ganímedes'\n",
    "\n",
    "\n",
    "\n",
    "# Comprueba la plantilla\n",
    "\n",
    "print(plantilla)"
   ]
  },
  {
   "cell_type": "code",
   "execution_count": 94,
   "metadata": {},
   "outputs": [
    {
     "name": "stdout",
     "output_type": "stream",
     "text": [
      "\n",
      "Datos de Gravedad sobre: Marte \n",
      "-------------------------------------------------------------------------------\n",
      "Nombre del planeta: Ganímedes\n",
      "Gravedad en Marte : 0.00143 m/s2\n",
      "\n"
     ]
    }
   ],
   "source": [
    "# Nueva plantilla\n",
    "\n",
    "nueva_plantilla = \"\"\"\n",
    "Datos de Gravedad sobre: {nombre}\n",
    "-------------------------------------------------------------------------------\n",
    "Nombre del planeta: {planeta}\n",
    "Gravedad en {nombre}: {gravedad} m/s2\n",
    "\"\"\"\n",
    "print(nueva_plantilla.format(nombre=nombre, planeta=planeta, gravedad=gravedad))"
   ]
  },
  {
   "cell_type": "code",
   "execution_count": 95,
   "metadata": {},
   "outputs": [
    {
     "name": "stdout",
     "output_type": "stream",
     "text": [
      "\n",
      "Datos de Gravedad sobre: Marte \n",
      "-------------------------------------------------------------------------------\n",
      "Nombre del planeta: Ganímedes\n",
      "Gravedad en Marte : 1.4300000000000002 m/s2\n",
      "\n"
     ]
    }
   ],
   "source": [
    "# Pista: print(nueva_plantilla.format(variables))\n",
    "\n",
    "print(nueva_plantilla.format(nombre=nombre, planeta=planeta, gravedad=gravedad*1000))"
   ]
  }
 ],
 "metadata": {
  "interpreter": {
   "hash": "4ab356c6ef3962ddb48a887d4b00763fccb6c7e30fb3b952437fe6a4665f03b0"
  },
  "kernelspec": {
   "display_name": "Python 3.10.2 64-bit",
   "language": "python",
   "name": "python3"
  },
  "language_info": {
   "codemirror_mode": {
    "name": "ipython",
    "version": 3
   },
   "file_extension": ".py",
   "mimetype": "text/x-python",
   "name": "python",
   "nbconvert_exporter": "python",
   "pygments_lexer": "ipython3",
   "version": "3.10.2"
  },
  "orig_nbformat": 4
 },
 "nbformat": 4,
 "nbformat_minor": 2
}
